{
  "nbformat": 4,
  "nbformat_minor": 0,
  "metadata": {
    "colab": {
      "provenance": [],
      "authorship_tag": "ABX9TyOeN1REBqshluentG/qKFuW",
      "include_colab_link": true
    },
    "kernelspec": {
      "name": "python3",
      "display_name": "Python 3"
    },
    "language_info": {
      "name": "python"
    }
  },
  "cells": [
    {
      "cell_type": "markdown",
      "metadata": {
        "id": "view-in-github",
        "colab_type": "text"
      },
      "source": [
        "<a href=\"https://colab.research.google.com/github/lendy0/mcu114/blob/main/CRUD_0604.ipynb\" target=\"_parent\"><img src=\"https://colab.research.google.com/assets/colab-badge.svg\" alt=\"Open In Colab\"/></a>"
      ]
    },
    {
      "cell_type": "markdown",
      "source": [
        "![](https://miro.medium.com/v2/resize:fit:1100/format:webp/1*Nus3zpMLMhI9TKZ324e4aw.jpeg)"
      ],
      "metadata": {
        "id": "3UmW_oHWR3ya"
      }
    },
    {
      "cell_type": "markdown",
      "source": [
        "# 關聯(關係)式資料庫\n",
        "\n",
        "資料表( Table )是資料庫( Database )中存放資料( Data )和資料與資料之間關係( Relationship )的集合。\n",
        "\n",
        "一個資料庫裡面通常都包含多個表，如學生的表、班級的表、課程的表...等等，表裡面存放資料，如學生的表裡面存放學生的資料、班級的表裡面存放班級的資料、課程的表裡面存放課程的資料...等等。為了能找到表中的資料，表裡面的每筆紀錄往往都會分配唯一的 ID，即所謂的主鍵( Primary Key)，藉此找到每筆紀錄。\n",
        "\n",
        "外鍵( Foreign Key )是用來建立資料表之間的關係，其外鍵內含值必須要與另一個資料表的主鍵相同。即表和表之間的關聯是通過外鍵。"
      ],
      "metadata": {
        "id": "K1GOmjaBcjSn"
      }
    },
    {
      "cell_type": "markdown",
      "source": [
        "# DB-API\n",
        "Python 應用程式如果要連結到資料庫，如 MySQL、SQL Server、PostgreSQL 亦或是 SQLite，因為 Python 定義了一套操作資料庫的 API，稱 DB-API，不同的資料庫只需要提供符合 DB-API 的資料庫驅動程式( Driver )，各種各樣的資料庫系統，就能有一致的操作介面，也就是說，開發者能使用 DB-API，來操作不同資料庫。\n",
        "\n",
        "DB-API與底層資料庫互動示例：\n",
        "\n",
        "①程式碼 ⇆ ②使用DB-API ⇆ ③資料庫驅動程式 ⇆ ④底層資料庫(如SQLite、MySQL等)\n",
        "\n",
        "舉例來說，SQLite 是用C寫的一種體積很小的關聯式資料庫，它的資料庫就是一個檔案，所以經常被整合到應用程式中，在 iOS 和 Android 的 App 中都可以看到。Python 內置了 SQLite3 的驅動程式，所以，在 Python 中使用 SQLite 是不需要再安裝任何東西，就可以直接導入( import )使用，直接操作 SQLite 資料庫。\n",
        "\n",
        "要操作關聯式資料庫，首先需要建立資料庫連線，一個資料庫的連線稱為一個 Connection。透過資料庫的連線，可以建立游標( Cursor )，通過 Cursor 執行 SQL 語句，然後得到執行結果。\n"
      ],
      "metadata": {
        "id": "t2n7NgYXcqfT"
      }
    },
    {
      "cell_type": "markdown",
      "source": [
        "異動資料庫\n",
        "\n",
        "```python\n",
        "# 導入 SQLite 驅動程式:\n",
        "import sqlite3\n",
        "# 建立資料庫連線\n",
        "# 資料庫檔案假設是test.db\n",
        "# 如果資料庫檔案不存在，會自動在當前目錄建立\n",
        "conn = sqlite3.connect('test.db')\n",
        "# 透過資料庫的連線建立游標(Cursor)\n",
        "cursor = conn.cursor()\n",
        "# 執行\"建立 student 資料表\"的 SQL\n",
        "cursor.execute('create table student (id varchar(20) primary key, name varchar(20))')\n",
        "# <sqlite3.Cursor object at 0x128fab307>\n",
        "# 繼續執行\"新增一筆 student 紀錄\"的 SQL 語句\n",
        "cursor.execute('insert into student (id, name) values (\\'1\\', \\'lendy\\')')\n",
        "# <sqlite3.Cursor object at 0x128fab307>\n",
        "# 通過 rowcount 獲得新增筆數\n",
        "print(cursor.rowcount)\n",
        "# 1\n",
        "# 提交事務\n",
        "conn.commit()\n",
        "# 關閉 Cursor\n",
        "cursor.close()\n",
        "# 關閉 Connection\n",
        "conn.close()\n",
        "```\n",
        "\n",
        "查詢記錄\n",
        "\n",
        "```python\n",
        "# 導入 SQLite 驅動程式:\n",
        "import sqlite3\n",
        "# 建立資料庫連線\n",
        "# 資料庫檔案假設是test.db\n",
        "# 如果資料庫檔案不存在，會自動在當前目錄建立\n",
        "conn = sqlite3.connect('test.db')\n",
        "# 透過資料庫的連線建立游標(Cursor)\n",
        "cursor = conn.cursor()\n",
        "# 執行\"查詢 student 資料表\"的 SQL\n",
        "cursor.execute('select * from student where id=?', ('1',))\n",
        "# <sqlite3.Cursor object at 0x10f8aa340>\n",
        "# 得到查詢結果\n",
        "values = cursor.fetchall()\n",
        "print(values)\n",
        "# [('1', 'lendy')]\n",
        "cursor.close()\n",
        "conn.close()\n",
        "```\n",
        "\n",
        "Connection 和 Cursor 使用後一定要記得關閉。\n",
        "\n",
        "使用 Cursor 執行 insert 、 update 、 delete 語句時，執行結果由 rowcount 返回， 返回值為影響的筆數(行數)。\n",
        "\n",
        "使用 Cursor 執行 select 時，通過 fetchall() 可以拿到一個 list，每個元素都是一個 tuple，對應一筆記錄。\n",
        "\n",
        "如果 SQL 語句帶有參數(即?)，可依照參數的位置一個對一個傳遞，例如：\n",
        "\n",
        "```python\n",
        "cursor.execute('select * from user where name=? and pwd=?', ('abc', 'password'))\n",
        "```\n",
        "\n",
        "SQLite 支持常見的標準 SQL 語句，以及常見的資料類型，相關細節請參閱 SQLite 官方網站。"
      ],
      "metadata": {
        "id": "7Tw8PWwAfnNz"
      }
    },
    {
      "cell_type": "code",
      "source": [
        "# 導入 SQLite 驅動程式:\n",
        "import sqlite3\n",
        "# 建立資料庫連線\n",
        "# 資料庫檔案假設是test.db\n",
        "# 如果資料庫檔案不存在，會自動在當前目錄建立\n",
        "conn = sqlite3.connect('test.db')\n",
        "# 透過資料庫的連線建立游標(Cursor)\n",
        "cursor = conn.cursor()\n",
        "# 執行\"建立 student 資料表\"的 SQL\n",
        "# cursor.execute('create table student (id varchar(20) primary key, name varchar(20))')\n",
        "# <sqlite3.Cursor object at 0x128fab307>\n",
        "# 繼續執行\"新增一筆 student 紀錄\"的 SQL 語句\n",
        "cursor.execute('insert into student (id, name) values (\\'3\\', \\'bill\\')')\n",
        "# <sqlite3.Cursor object at 0x128fab307>\n",
        "# 通過 rowcount 獲得新增筆數\n",
        "print(cursor.rowcount)\n",
        "# 1\n",
        "# 提交事務\n",
        "conn.commit()\n",
        "# 關閉 Cursor\n",
        "cursor.close()\n",
        "# 關閉 Connection\n",
        "conn.close()"
      ],
      "metadata": {
        "colab": {
          "base_uri": "https://localhost:8080/"
        },
        "id": "rIWLsEhXhPZ-",
        "outputId": "e8792b83-34be-4413-de42-0307ba9465e3"
      },
      "execution_count": null,
      "outputs": [
        {
          "output_type": "stream",
          "name": "stdout",
          "text": [
            "1\n"
          ]
        }
      ]
    },
    {
      "cell_type": "code",
      "source": [
        "# 導入 SQLite 驅動程式:\n",
        "import sqlite3\n",
        "# 建立資料庫連線\n",
        "# 資料庫檔案假設是test.db\n",
        "# 如果資料庫檔案不存在，會自動在當前目錄建立\n",
        "conn = sqlite3.connect('test.db')\n",
        "# 透過資料庫的連線建立游標(Cursor)\n",
        "cursor = conn.cursor()\n",
        "# 執行\"查詢 student 資料表\"的 SQL\n",
        "# cursor.execute('select * from student where id=?', ('1',))\n",
        "cursor.execute('select * from student')\n",
        "# <sqlite3.Cursor object at 0x10f8aa340>\n",
        "# 得到查詢結果\n",
        "values = cursor.fetchall()\n",
        "print(values)\n",
        "# [('1', 'lendy')]\n",
        "cursor.close()\n",
        "conn.close()"
      ],
      "metadata": {
        "colab": {
          "base_uri": "https://localhost:8080/"
        },
        "id": "sClF0bjxhgQe",
        "outputId": "6ea302e3-46df-4d53-f2b2-e4fda85a3716"
      },
      "execution_count": null,
      "outputs": [
        {
          "output_type": "stream",
          "name": "stdout",
          "text": [
            "[('1', 'lendy'), ('2', 'mary'), ('3', 'bill')]\n"
          ]
        }
      ]
    },
    {
      "cell_type": "markdown",
      "source": [
        "## Python sqlite3 API\n",
        "\n",
        "|      | API                                                          |\n",
        "| :--- | :----------------------------------------------------------- |\n",
        "| 1    | **sqlite3.connect(database [,timeout ,other optional arguments])** 該 API 打開一個到 SQLite 資料庫檔 database 的連結。您可以使用 \":memory:\" 來在 RAM 中打開一個到 database 的資料庫連接，而不是在硬碟上打開。如果資料庫成功打開，則返回一個連線物件。當一個資料庫被多個連接訪問，且其中一個修改了資料庫，此時 SQLite 資料庫被鎖定，直到事務提交。timeout 參數表示連接等待鎖定的持續時間，直到發生異常斷開連接。timeout 參數默認是 5.0（5 秒）。如果給定的資料庫名稱 filename 不存在，則該調用將創建一個資料庫。如果您不想在目前的目錄中創建資料庫，那麼您可以指定帶有路徑的檔案名，這樣您就能在任意地方創建資料庫。 |\n",
        "| 2    | **connection.cursor([cursorClass])** 該常式創建一個 **cursor**，將在 Python 資料庫程式設計中用到。該方法接受一個單一的可選的參數 cursorClass。如果提供了該參數，則它必須是一個擴展自 sqlite3.Cursor 的自訂的 cursor 類。 |\n",
        "| 3    | **cursor.execute(sql [, optional parameters])** 該常式執行一個 SQL 語句。該 SQL 語句可以被參數化（即使用預留位置代替 SQL 文本）。sqlite3 模組支援兩種類型的預留位置：問號和命名預留位置（命名樣式）。例如：cursor.execute(\"insert into people values (?, ?)\", (who, age)) |\n",
        "| 9    | **connection.total_changes()** 該常式返回自資料庫連接打開以來被修改、插入或刪除的資料庫總行數。 |\n",
        "| 10   | **connection.commit()** 該方法提交當前的事務。如果您未調用該方法，那麼自您上一次調用 commit() 以來所做的任何動作對其他資料庫連接來說是不可見的。 |\n",
        "| 11   | **connection.rollback()** 該方法回滾自上一次調用 commit() 以來對資料庫所做的更改。 |\n",
        "| 12   | **connection.close()** 該方法關閉資料庫連接。請注意，這不會自動調用 commit()。如果您之前未調用 commit() 方法，就直接關閉資料庫連接，您所做的所有更改將全部丟失！ |\n",
        "| 13   | **cursor.fetchone()** 該方法獲取查詢結果集中的下一行，返回一個單一的序列，當沒有更多可用的資料時，則返回 None。 |\n",
        "| 14   | **cursor.fetchmany([size=cursor.arraysize])** 該方法獲取查詢結果集中的下一行組，返回一個列表。當沒有更多的可用的行時，則返回一個空的列表。該方法嘗試獲取由 size 參數指定的盡可能多的行。 |\n",
        "| 15   | **cursor.fetchall()** 該常式獲取查詢結果集中所有（剩餘）的行，返回一個列表。當沒有可用的行時，則返回一個空的列表。 |\n",
        "\n"
      ],
      "metadata": {
        "id": "eMdFg5RHgKIZ"
      }
    },
    {
      "cell_type": "markdown",
      "source": [
        "# 範例\n",
        "```python\n",
        "import sqlite3 as sql\n",
        "\n",
        "#connect to SQLite\n",
        "con = sql.connect('db_web.db')\n",
        "\n",
        "#Create a Connection\n",
        "cur = con.cursor()\n",
        "\n",
        "#Drop users table if already exsist.\n",
        "cur.execute(\"DROP TABLE IF EXISTS users\")\n",
        "\n",
        "#Create users table  in db_web database\n",
        "sql ='''CREATE TABLE \"users\" (\n",
        "\t\"UID\"\tINTEGER PRIMARY KEY AUTOINCREMENT,\n",
        "\t\"UNAME\"\tTEXT,\n",
        "\t\"CONTACT\"\tTEXT\n",
        ")'''\n",
        "cur.execute(sql)\n",
        "\n",
        "#commit changes\n",
        "con.commit()\n",
        "\n",
        "#close the connection\n",
        "con.close()\n",
        "```"
      ],
      "metadata": {
        "id": "vUjVokjvpZ3I"
      }
    },
    {
      "cell_type": "code",
      "source": [],
      "metadata": {
        "id": "gfcbCY0SR0i-"
      },
      "execution_count": null,
      "outputs": []
    },
    {
      "cell_type": "markdown",
      "source": [
        "# 範例步驟\n",
        "\n",
        "## import\n",
        "\n",
        "## CRUD(新增:Create , 讀取:Read, 更新: Update, 刪除:Delete)"
      ],
      "metadata": {
        "id": "dZ9k42d3r_s5"
      }
    },
    {
      "cell_type": "markdown",
      "source": [
        "### Read\n",
        "```Python\n",
        "con=sql.connect(\"db_web.db\")\n",
        "# con.row_factory=sql.Row\n",
        "cur=con.cursor()\n",
        "cur.execute(\"select * from users\")\n",
        "data=cur.fetchall()\n",
        "data\n",
        "```"
      ],
      "metadata": {
        "id": "8MnVvHzxs5tj"
      }
    },
    {
      "cell_type": "code",
      "source": [
        "import sqlite3 as sql"
      ],
      "metadata": {
        "id": "ltYSgfCNkAUA"
      },
      "execution_count": null,
      "outputs": []
    },
    {
      "cell_type": "code",
      "source": [
        "con=sql.connect(\"db_web.db\")\n",
        "# con.row_factory=sql.Row\n",
        "cur=con.cursor()\n",
        "cur.execute(\"select * from users\")\n",
        "data=cur.fetchall()\n",
        "data"
      ],
      "metadata": {
        "colab": {
          "base_uri": "https://localhost:8080/"
        },
        "id": "CofphmOZsa9z",
        "outputId": "37f2545d-776c-47a4-e76c-6e87093aa49e"
      },
      "execution_count": null,
      "outputs": [
        {
          "output_type": "execute_result",
          "data": {
            "text/plain": [
              "[(1, 'lendy', 'lendy.lin@gmail.com')]"
            ]
          },
          "metadata": {},
          "execution_count": 25
        }
      ]
    },
    {
      "cell_type": "markdown",
      "source": [
        "### Create\n",
        "```Python\n",
        "con=sql.connect(\"db_web.db\")\n",
        "cur=con.cursor()\n",
        "cur.execute(\"insert into users(UNAME,CONTACT) values (?,?)\",('lendy','lendy.lin@gmail.com'))\n",
        "con.commit()\n",
        "```"
      ],
      "metadata": {
        "id": "QEu9HfaZtTDI"
      }
    },
    {
      "cell_type": "code",
      "source": [
        "con=sql.connect(\"db_web.db\")\n",
        "cur=con.cursor()\n",
        "cur.execute(\"insert into users(UNAME,CONTACT) values (?,?)\",('mary','mary.lu@gmail.com'))\n",
        "con.commit()"
      ],
      "metadata": {
        "id": "VTLK_vJ5sm4Z"
      },
      "execution_count": null,
      "outputs": []
    },
    {
      "cell_type": "markdown",
      "source": [
        "### Update\n",
        "```python\n",
        "con=sql.connect(\"db_web.db\")\n",
        "cur=con.cursor()\n",
        "cur.execute(\"update users set UNAME=?,CONTACT=? where UID=?\",('bill','bill.chen@gmail.com','1'))\n",
        "con.commit()\n",
        "```"
      ],
      "metadata": {
        "id": "AmFbZkg_teUf"
      }
    },
    {
      "cell_type": "code",
      "source": [
        "con=sql.connect(\"db_web.db\")\n",
        "cur=con.cursor()\n",
        "cur.execute(\"update users set UNAME=?,CONTACT=? where UID=?\",('bill','bill.chen@gmail.com','2'))\n",
        "con.commit()"
      ],
      "metadata": {
        "id": "87crTtMat0ed"
      },
      "execution_count": null,
      "outputs": []
    },
    {
      "cell_type": "markdown",
      "source": [
        "### Delete\n",
        "```python\n",
        "con=sql.connect(\"db_web.db\")\n",
        "cur=con.cursor()\n",
        "cur.execute(\"delete from users where UID=?\",('1',))\n",
        "con.commit()\n",
        "```"
      ],
      "metadata": {
        "id": "WkCre-ust5jo"
      }
    },
    {
      "cell_type": "code",
      "source": [
        "con=sql.connect(\"db_web.db\")\n",
        "cur=con.cursor()\n",
        "cur.execute(\"delete from users where UID=?\",('2',))\n",
        "con.commit()"
      ],
      "metadata": {
        "id": "02zTYihrt5GX"
      },
      "execution_count": null,
      "outputs": []
    }
  ]
}