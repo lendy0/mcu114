{
  "nbformat": 4,
  "nbformat_minor": 0,
  "metadata": {
    "colab": {
      "provenance": [],
      "authorship_tag": "ABX9TyOw0VOXlF7j23m8ffz3cyCz",
      "include_colab_link": true
    },
    "kernelspec": {
      "name": "python3",
      "display_name": "Python 3"
    },
    "language_info": {
      "name": "python"
    }
  },
  "cells": [
    {
      "cell_type": "markdown",
      "metadata": {
        "id": "view-in-github",
        "colab_type": "text"
      },
      "source": [
        "<a href=\"https://colab.research.google.com/github/lendy0/mcu114/blob/main/0514OOP.ipynb\" target=\"_parent\"><img src=\"https://colab.research.google.com/assets/colab-badge.svg\" alt=\"Open In Colab\"/></a>"
      ]
    },
    {
      "cell_type": "markdown",
      "source": [
        "No19. 請設計三個串列，names、java_scores和python_scores，分別存放使用者輸入的姓名，java成績和python成績。直到輸入姓名為空為止。並輸出使用者輸入的姓名，java成績和python成績，其格式為，姓名:java成績:python成績。\n",
        "\n",
        "輸入的姓名和成績，姓名為Lendy，其java成績成績為90，python成績成績為88、姓名為Mary，其java成績成績為72，python成績成績為90、姓名為Bill，其java成績成績為88，python成績成績為78。\n",
        "\n",
        "提示:使用while迴圈"
      ],
      "metadata": {
        "id": "6LjGUjIcOQus"
      }
    },
    {
      "cell_type": "code",
      "source": [],
      "metadata": {
        "id": "rZ_a014uOTmy"
      },
      "execution_count": null,
      "outputs": []
    },
    {
      "cell_type": "markdown",
      "source": [
        "No20. 請使用辭典搭配串列students，透過辭典存放使用者輸入的姓名，java成績和python成績。直到輸入姓名為空為止。並輸出使用者輸入的姓名，java成績和python成績，其格式為，姓名:java成績:python成績。\n",
        "\n",
        "輸入的姓名和成績，姓名為Lendy，其java成績成績為90，python成績成績為88、姓名為Mary，其java成績成績為72，python成績成績為90、姓名為Bill，其java成績成績為88，python成績成績為78。\n",
        "\n",
        "提示:使用while迴圈"
      ],
      "metadata": {
        "id": "WZiuy7M2OUH0"
      }
    },
    {
      "cell_type": "code",
      "source": [],
      "metadata": {
        "id": "nF95NOQIOmIw"
      },
      "execution_count": null,
      "outputs": []
    },
    {
      "cell_type": "markdown",
      "source": [
        "No22. 請使用類別\n",
        "```python\n",
        "class Student:\n",
        "    def __init__(self, name, java, python):\n",
        "        self.name = name\n",
        "        self.java = java\n",
        "        self.python = python\n",
        "\n",
        "    def info(self):\n",
        "        print(f\"{self.name}:{self.java}:{self.python}\")\n",
        "```\n",
        "搭配串列students，透過類別Student的物件存放使用者輸入的姓名，java成績和python成績。直到輸入姓名為空為止。並依照java成績，從大到小，輸出使用者輸入的姓名，java成績和python成績，其格式為，姓名:java成績:python成績。\n",
        "\n",
        "輸入的姓名和成績，姓名為Lendy，其java成績成績為90，python成績成績為88、姓名為Mary，其java成績成績為72，python成績成績為90、姓名為Bill，其java成績成績為88，python成績成績為78。\n",
        "\n",
        "提示:使用while迴圈"
      ],
      "metadata": {
        "id": "xxT1V-CaOlZo"
      }
    },
    {
      "cell_type": "code",
      "execution_count": null,
      "metadata": {
        "id": "HP-wWmJzrblz"
      },
      "outputs": [],
      "source": []
    },
    {
      "cell_type": "markdown",
      "source": [
        "\n",
        "\n",
        "sorted(students, key=lambda student: student['java'])\n",
        "\n"
      ],
      "metadata": {
        "id": "q1NVxwnmPMij"
      }
    },
    {
      "cell_type": "code",
      "source": [],
      "metadata": {
        "id": "hgS-wcN3OftJ"
      },
      "execution_count": null,
      "outputs": []
    }
  ]
}