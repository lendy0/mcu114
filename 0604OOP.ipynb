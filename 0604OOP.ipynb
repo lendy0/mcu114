{
  "nbformat": 4,
  "nbformat_minor": 0,
  "metadata": {
    "colab": {
      "provenance": [],
      "authorship_tag": "ABX9TyNjlSQcEnwby5yFsWIReKc0",
      "include_colab_link": true
    },
    "kernelspec": {
      "name": "python3",
      "display_name": "Python 3"
    },
    "language_info": {
      "name": "python"
    }
  },
  "cells": [
    {
      "cell_type": "markdown",
      "metadata": {
        "id": "view-in-github",
        "colab_type": "text"
      },
      "source": [
        "<a href=\"https://colab.research.google.com/github/lendy0/mcu114/blob/main/0604OOP.ipynb\" target=\"_parent\"><img src=\"https://colab.research.google.com/assets/colab-badge.svg\" alt=\"Open In Colab\"/></a>"
      ]
    },
    {
      "cell_type": "markdown",
      "source": [
        "我是一個開發人員，先幫我建立四個串列student_ids，names、scores和genders，分別存放使用者輸入學生的學號、學生的姓名、學生的成績、學生的性別，幫我撰寫新增、修改、刪除和查詢全部學生的學號、學生的姓名、學生的成績、學生的性別，最後寫一個新增、修改、刪除、查詢全部學生和離開的使用者介面。"
      ],
      "metadata": {
        "id": "U71ReaEnIJ-1"
      }
    },
    {
      "cell_type": "code",
      "source": [],
      "metadata": {
        "id": "UleprOe-GnUj"
      },
      "execution_count": null,
      "outputs": []
    },
    {
      "cell_type": "markdown",
      "source": [
        "我是一個開發人員，先幫我建立一個字典，該字典包含學生的學號、學生的姓名、學生的成績、學生的性別，用一個list來管理全班學生，幫我撰寫新增、修改、刪除和查詢全部學生的學號、學生的姓名、學生的成績、學生的性別，最後寫一個新增、修改、刪除、查詢全部學生和離開的使用者介面。"
      ],
      "metadata": {
        "id": "EV9eCZAqIAmy"
      }
    },
    {
      "cell_type": "code",
      "source": [],
      "metadata": {
        "id": "BYvthWazIwnu"
      },
      "execution_count": null,
      "outputs": []
    },
    {
      "cell_type": "markdown",
      "source": [
        "我是一個開發人員，先幫我建立一個學生類別，該物件包含學生的學號、學生的姓名、學生的成績、學生的性別，用一個list來管理全班學生，幫我撰寫新增、修改、刪除和查詢全部學生的學號、學生的姓名、學生的成績、學生的性別，最後寫一個新增、修改、刪除、查詢全部學生和離開的使用者介面。"
      ],
      "metadata": {
        "id": "Kd1SNuwYIP03"
      }
    },
    {
      "cell_type": "code",
      "source": [],
      "metadata": {
        "id": "N5HvW1xbGI-8"
      },
      "execution_count": null,
      "outputs": []
    }
  ]
}