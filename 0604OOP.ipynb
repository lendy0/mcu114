{
  "nbformat": 4,
  "nbformat_minor": 0,
  "metadata": {
    "colab": {
      "provenance": [],
      "authorship_tag": "ABX9TyMqnE8Xxq+D35+asbUdVtuy",
      "include_colab_link": true
    },
    "kernelspec": {
      "name": "python3",
      "display_name": "Python 3"
    },
    "language_info": {
      "name": "python"
    }
  },
  "cells": [
    {
      "cell_type": "markdown",
      "metadata": {
        "id": "view-in-github",
        "colab_type": "text"
      },
      "source": [
        "<a href=\"https://colab.research.google.com/github/lendy0/mcu114/blob/main/0604OOP.ipynb\" target=\"_parent\"><img src=\"https://colab.research.google.com/assets/colab-badge.svg\" alt=\"Open In Colab\"/></a>"
      ]
    },
    {
      "cell_type": "markdown",
      "source": [
        "我是一個開發人員，先幫我建立四個串列student_ids，names、scores和genders，分別存放使用者輸入學生的學號、學生的姓名、學生的成績、學生的性別，幫我撰寫新增、修改、刪除和查詢全部學生的學號、學生的姓名、學生的成績、學生的性別，最後寫一個新增、修改、刪除、查詢全部學生和離開的使用者介面。"
      ],
      "metadata": {
        "id": "U71ReaEnIJ-1"
      }
    },
    {
      "cell_type": "code",
      "source": [],
      "metadata": {
        "id": "UleprOe-GnUj"
      },
      "execution_count": null,
      "outputs": []
    },
    {
      "cell_type": "markdown",
      "source": [
        "我是一個開發人員，先幫我建立一個字典，該字典包含學生的學號、學生的姓名、學生的成績、學生的性別，用一個list來管理全班學生，幫我撰寫新增、修改、刪除和查詢全部學生的學號、學生的姓名、學生的成績、學生的性別，最後寫一個新增、修改、刪除、查詢全部學生和離開的使用者介面。"
      ],
      "metadata": {
        "id": "EV9eCZAqIAmy"
      }
    },
    {
      "cell_type": "code",
      "source": [],
      "metadata": {
        "id": "BYvthWazIwnu"
      },
      "execution_count": null,
      "outputs": []
    },
    {
      "cell_type": "markdown",
      "source": [
        "我是一個開發人員，先幫我建立一個學生類別，該物件包含學生的學號、學生的姓名、學生的成績、學生的性別，用一個list來管理全班學生，幫我撰寫新增、修改、刪除和查詢全部學生的學號、學生的姓名、學生的成績、學生的性別，最後寫一個新增、修改、刪除、查詢全部學生和離開的使用者介面。"
      ],
      "metadata": {
        "id": "Kd1SNuwYIP03"
      }
    },
    {
      "cell_type": "code",
      "source": [],
      "metadata": {
        "id": "yDrfiMpy3ZHv"
      },
      "execution_count": null,
      "outputs": []
    },
    {
      "cell_type": "markdown",
      "source": [],
      "metadata": {
        "id": "L2FSkTpr3x5N"
      }
    },
    {
      "cell_type": "code",
      "source": [],
      "metadata": {
        "id": "C-IqCsOY3zME"
      },
      "execution_count": null,
      "outputs": []
    },
    {
      "cell_type": "markdown",
      "source": [],
      "metadata": {
        "id": "Ny4pIUgP3zrH"
      }
    },
    {
      "cell_type": "markdown",
      "source": [
        "--- 學生管理系統 ---\n",
        "1. 新增學生\n",
        "2. 修改學生\n",
        "3. 刪除學生\n",
        "4. 查詢所有學生\n",
        "5. 離開\n",
        "請選擇操作 (1-5): 4\n",
        "目前沒有學生資料。\n",
        "\n",
        "--- 學生管理系統 ---\n",
        "1. 新增學生\n",
        "2. 修改學生\n",
        "3. 刪除學生\n",
        "4. 查詢所有學生\n",
        "5. 離開\n",
        "請選擇操作 (1-5): 1\n",
        "請輸入學號: 9701824\n",
        "請輸入姓名: lendy\n",
        "請輸入成績: 90\n",
        "請輸入性別: 男\n",
        "學生已成功新增。\n",
        "\n",
        "--- 學生管理系統 ---\n",
        "1. 新增學生\n",
        "2. 修改學生\n",
        "3. 刪除學生\n",
        "4. 查詢所有學生\n",
        "5. 離開\n",
        "請選擇操作 (1-5): 2\n",
        "請輸入要修改的學號: 001\n",
        "錯誤：找不到指定的學號。\n",
        "\n",
        "--- 學生管理系統 ---\n",
        "1. 新增學生\n",
        "2. 修改學生\n",
        "3. 刪除學生\n",
        "4. 查詢所有學生\n",
        "5. 離開\n",
        "請選擇操作 (1-5): 2\n",
        "請輸入要修改的學號: 9701824\n",
        "\n",
        "--- 修改學生資料 ---\n",
        "請輸入新的姓名 (目前: lendy, 留空表示不修改): lin\n",
        "請輸入新的成績 (目前: 90, 留空表示不修改): 88\n",
        "請輸入新的性別 (目前: 男, 留空表示不修改):\n",
        "學生資料已成功更新。\n",
        "\n",
        "--- 學生管理系統 ---\n",
        "1. 新增學生\n",
        "2. 修改學生\n",
        "3. 刪除學生\n",
        "4. 查詢所有學生\n",
        "5. 離開\n",
        "請選擇操作 (1-5): 4\n",
        "\n",
        "--- 所有學生資料 ---\n",
        "學號: 9701824, 姓名: lin, 成績: 88, 性別: 男\n",
        "\n",
        "--- 學生管理系統 ---\n",
        "1. 新增學生\n",
        "2. 修改學生\n",
        "3. 刪除學生\n",
        "4. 查詢所有學生\n",
        "5. 離開\n",
        "請選擇操作 (1-5): 3\n",
        "請輸入要刪除的學號: 9701824\n",
        "學生資料已成功刪除。\n",
        "\n",
        "--- 學生管理系統 ---\n",
        "1. 新增學生\n",
        "2. 修改學生\n",
        "3. 刪除學生\n",
        "4. 查詢所有學生\n",
        "5. 離開\n",
        "請選擇操作 (1-5): 4\n",
        "目前沒有學生資料。\n",
        "\n",
        "--- 學生管理系統 ---\n",
        "1. 新增學生\n",
        "2. 修改學生\n",
        "3. 刪除學生\n",
        "4. 查詢所有學生\n",
        "5. 離開\n",
        "請選擇操作 (1-5): 5\n",
        "程式結束。"
      ],
      "metadata": {
        "id": "2WmIkjfH3D1i"
      }
    },
    {
      "cell_type": "code",
      "source": [],
      "metadata": {
        "id": "keYQnKzu35DT"
      },
      "execution_count": null,
      "outputs": []
    }
  ]
}