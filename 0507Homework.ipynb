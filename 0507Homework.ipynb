{
  "nbformat": 4,
  "nbformat_minor": 0,
  "metadata": {
    "colab": {
      "provenance": [],
      "authorship_tag": "ABX9TyPNnohdaflEa4raZUsjUgh0",
      "include_colab_link": true
    },
    "kernelspec": {
      "name": "python3",
      "display_name": "Python 3"
    },
    "language_info": {
      "name": "python"
    }
  },
  "cells": [
    {
      "cell_type": "markdown",
      "metadata": {
        "id": "view-in-github",
        "colab_type": "text"
      },
      "source": [
        "<a href=\"https://colab.research.google.com/github/lendy0/mcu114/blob/main/0507Homework.ipynb\" target=\"_parent\"><img src=\"https://colab.research.google.com/assets/colab-badge.svg\" alt=\"Open In Colab\"/></a>"
      ]
    },
    {
      "cell_type": "markdown",
      "source": [
        "No1. 請設計一個串列，students，分別於index為0,2,4...處存放姓名，和index為1,3,5...處存放成績。姓名為Lendy，其成績為90、姓名為Mary，其成績為72、姓名為Bill，其成績為88和姓名為John，其成績為92。\n",
        "\n",
        "輸出姓名和成績，其格式為，姓名:成績。\n",
        "\n",
        "請依照下面程式範例與要求撰寫程式。\n",
        "\n",
        "students=[....] # index為0,2,4...處存放姓名。index為1,3,5...處存放成績\n",
        "\n",
        "for ... range(...) # 用range，並計算串列長度(len)來進行for迴圈"
      ],
      "metadata": {
        "id": "cxezlQeruJM9"
      }
    },
    {
      "cell_type": "code",
      "source": [],
      "metadata": {
        "id": "nY3fyow3JQKF"
      },
      "execution_count": null,
      "outputs": []
    },
    {
      "cell_type": "markdown",
      "source": [
        "No2. 請設計一個串列，students，分別於index為0,2,4...處存放姓名，和index為1,3,5...處存放成績。姓名為Lendy，其成績為90、姓名為Mary，其成績為72、姓名為Bill，其成績為88和姓名為John，其成績為92。\n",
        "\n",
        "請找出全班最高分與最低分的人，並輸出姓名和成績，其格式為，姓名:成績。\n",
        "\n",
        "請依照下面程式範例與要求撰寫程式。\n",
        "\n",
        "students=[....] # index為0,2,4...處存放姓名。index為1,3,5...處存放成績\n",
        "\n",
        "students[1::2] # 取出成績\n",
        "\n",
        "提示:index函式、slice、max和min函式。"
      ],
      "metadata": {
        "id": "H8vKbBBfK6i4"
      }
    },
    {
      "cell_type": "code",
      "source": [],
      "metadata": {
        "id": "ylKc-8n5O61-"
      },
      "execution_count": null,
      "outputs": []
    },
    {
      "cell_type": "markdown",
      "source": [
        "No3. 請設計一個串列，students，分別於index為0,2,4...處存放姓名，和index為1,3,5...處存放成績。姓名為Lendy，其成績為90、姓名為Mary，其成績為72、姓名為Bill，其成績為88和姓名為John，其成績為92。\n",
        "\n",
        "請找出全班最高分與最低分的人，並輸出姓名和成績，其格式為，姓名:成績。\n",
        "\n",
        "請依照下面程式範例與要求撰寫程式。\n",
        "\n",
        "students=[....] # index為0,2,4...處存放姓名。index為1,3,5...處存放成績\n",
        "\n",
        "students[1::2] # 取出成績\n",
        "\n",
        "提示:index函式、slice和sort函式。"
      ],
      "metadata": {
        "id": "kEM9yCfwNDGZ"
      }
    },
    {
      "cell_type": "code",
      "source": [],
      "metadata": {
        "id": "5RpE_2wCTG1N"
      },
      "execution_count": null,
      "outputs": []
    },
    {
      "cell_type": "markdown",
      "source": [
        "No4. 請設計一個串列，students，分別於index為0,2,4...處存放姓名，和index為1,3,5...處存放成績。姓名為Lendy，其成績為90、姓名為Mary，其成績為72、姓名為Bill，其成績為88和姓名為John，其成績為92。\n",
        "\n",
        "請從最低分到最高分，輸出姓名和成績。再從最高分到最低分，輸出姓名和成績，其格式為，姓名:成績。\n",
        "\n",
        "請依照下面程式範例與要求撰寫程式。\n",
        "\n",
        "students=[....] # index為0,2,4...處存放姓名。index為1,3,5...處存放成績\n",
        "\n",
        "提示:index函式、slice和sort函式。"
      ],
      "metadata": {
        "id": "5rzVo8T_uPF9"
      }
    },
    {
      "cell_type": "code",
      "source": [],
      "metadata": {
        "id": "Wq_penDHuTcv"
      },
      "execution_count": null,
      "outputs": []
    },
    {
      "cell_type": "markdown",
      "source": [
        "No5. 請設計一個串列，students，分別於index為0,2,4...處存放姓名，和index為1,3,5...處存放成績。姓名為Lendy，其成績為90、姓名為Mary，其成績為72、姓名為Bill，其成績為88和姓名為John，其成績為92。\n",
        "\n",
        "請從最低分到最高分，輸出姓名和成績。再從最高分到最低分，輸出姓名和成績，其格式為，姓名:成績。\n",
        "\n",
        "請依照下面程式範例與要求撰寫程式。\n",
        "\n",
        "students=[....] # index為0,2,4...處存放姓名。index為1,3,5...處存放成績\n",
        "\n",
        "提示:index函式、slice、sort和reverse函式。"
      ],
      "metadata": {
        "id": "uIVLo400bCPr"
      }
    },
    {
      "cell_type": "code",
      "source": [],
      "metadata": {
        "id": "5GsOyU_AbOvS"
      },
      "execution_count": null,
      "outputs": []
    },
    {
      "cell_type": "markdown",
      "source": [
        "No6.\n",
        "請設計兩個串列，names和scores，分別存放姓名和成績。姓名為Lendy，其成績為90、姓名為Mary，其成績為72、姓名為Bill，其成績為88和姓名為John，其成績為92。\n",
        "\n",
        "輸出姓名和成績，其格式為，姓名:成績。\n",
        "\n",
        "請依照下面程式範例與要求撰寫程式。\n",
        "```python\n",
        "names=[....] # 存放姓名\n",
        "scores=[....] # 存放成績\n",
        "\n",
        "for ... range(...)  # 用range，並計算串列長度(len)來進行for迴圈\n",
        "```"
      ],
      "metadata": {
        "id": "MQxLDtvAmoco"
      }
    },
    {
      "cell_type": "code",
      "source": [],
      "metadata": {
        "id": "oSC92m8UoNm7"
      },
      "execution_count": null,
      "outputs": []
    },
    {
      "cell_type": "markdown",
      "source": [
        "No7.\n",
        "請設計兩個串列，names和scores，分別存放姓名和成績。姓名為Lendy，其成績為90、姓名為Mary，其成績為72、姓名為Bill，其成績為88和姓名為John，其成績為92。\n",
        "\n",
        "輸出姓名和成績，其格式為，姓名:成績。\n",
        "\n",
        "請依照下面程式範例與要求撰寫程式。\n",
        "```python\n",
        "names=list(...) # 存放姓名\n",
        "scores=list(...) # 存放成績\n",
        "\n",
        "for ... range(...)  # 用range，並計算串列長度來進行for迴圈\n",
        "```"
      ],
      "metadata": {
        "id": "ilh3jo0rn6K8"
      }
    },
    {
      "cell_type": "code",
      "source": [],
      "metadata": {
        "id": "_6noXadynl9o"
      },
      "execution_count": null,
      "outputs": []
    },
    {
      "cell_type": "markdown",
      "source": [
        "No8. 請設計兩個串列，names和scores，分別存放姓名和成績。姓名為Lendy，其成績為90、姓名為Mary，其成績為72、姓名為Bill，其成績為88和姓名為John，其成績為92。\n",
        "\n",
        "請計算全班平均。\n"
      ],
      "metadata": {
        "id": "UX7UX-P9qY-h"
      }
    },
    {
      "cell_type": "code",
      "source": [],
      "metadata": {
        "id": "41HamrQGq0mQ"
      },
      "execution_count": null,
      "outputs": []
    },
    {
      "cell_type": "markdown",
      "source": [
        "No9. 請設計兩個串列，names和scores，分別存放姓名和成績。姓名為Lendy，其成績為90、姓名為Mary，其成績為72、姓名為Bill，其成績為88和姓名為John，其成績為92。\n",
        "\n",
        "請找出全班最高分與最低分的人，並輸出姓名和成績，其格式為:\n",
        "\n",
        "最高分:姓名:成績。\n",
        "\n",
        "最低分:姓名:成績。\n",
        "\n",
        "提示:index方法"
      ],
      "metadata": {
        "id": "KnUz3xIvoxuC"
      }
    },
    {
      "cell_type": "code",
      "source": [],
      "metadata": {
        "id": "mYHh3zzzrd25"
      },
      "execution_count": null,
      "outputs": []
    },
    {
      "cell_type": "markdown",
      "source": [
        "No10. 請設計兩個串列，names和scores，分別存放姓名和成績。姓名為Lendy，其成績為90、姓名為Mary，其成績為72、姓名為Bill，其成績為88和姓名為John，其成績為92。\n",
        "\n",
        "請從最低分到最高分，輸出姓名和成績。再從最高分到最低分，輸出姓名和成績。\n",
        "請使用sorted方法。\n",
        "\n",
        "建議:建立先的變數scores_sorted代表排序後的scores。\n"
      ],
      "metadata": {
        "id": "rWEM9Ocrr9ia"
      }
    },
    {
      "cell_type": "code",
      "source": [],
      "metadata": {
        "id": "JSQLOeKZsamW"
      },
      "execution_count": null,
      "outputs": []
    },
    {
      "cell_type": "markdown",
      "source": [
        "No11. 請設計兩個串列，names和scores，分別存放姓名和成績。姓名為Lendy，其成績為90、姓名為Mary，其成績為72、姓名為Bill，其成績為88和姓名為John，其成績為92。\n",
        "\n",
        "請從最低分到最高分，輸出姓名和成績。再從最高分到最低分，輸出姓名和成績。 請使用sorted和reversed方法。"
      ],
      "metadata": {
        "id": "hNavp4gctQiq"
      }
    },
    {
      "cell_type": "code",
      "source": [],
      "metadata": {
        "id": "IP0A_R9Xta_O"
      },
      "execution_count": null,
      "outputs": []
    },
    {
      "cell_type": "markdown",
      "source": [
        "No12. 請設計兩個串列，names和scores，分別存放姓名和成績。姓名為Lendy，其成績為90、姓名為Mary，其成績為72、姓名為Bill，其成績為88和姓名為John，其成績為92。\n",
        "\n",
        "請從最低分到最高分，輸出姓名和成績。再從最高分到最低分，輸出姓名和成績。 請使用sort方法。\n",
        "\n",
        "提示:適切使用copy()"
      ],
      "metadata": {
        "id": "Wr93p12puVPz"
      }
    },
    {
      "cell_type": "code",
      "source": [],
      "metadata": {
        "id": "turD6U2EuTGG"
      },
      "execution_count": null,
      "outputs": []
    },
    {
      "cell_type": "markdown",
      "source": [
        "No13. 請設計兩個串列，names和scores，分別存放姓名和成績。姓名為Lendy，其成績為90、姓名為Mary，其成績為72、姓名為Bill，其成績為88和姓名為John，其成績為92。\n",
        "\n",
        "請從最低分到最高分，輸出姓名和成績。再從最高分到最低分，輸出姓名和成績。 請使用sort和reverse方法。\n",
        "\n",
        "提示:適切使用copy()"
      ],
      "metadata": {
        "id": "O8R12tF8wSDC"
      }
    },
    {
      "cell_type": "code",
      "source": [],
      "metadata": {
        "id": "tEdaSprRwnmB"
      },
      "execution_count": null,
      "outputs": []
    },
    {
      "cell_type": "markdown",
      "source": [
        "No14.\n",
        "請設計兩個串列，names和scores，分別存放使用者輸入的姓名和成績。直到輸入姓名為空為止。並輸出使用者輸入的姓名和成績，其格式為，姓名:成績。\n",
        "\n",
        "輸入的姓名和成績，姓名為Lendy，其成績為90、姓名為Mary，其成績為72、姓名為Bill，其成績為88。\n",
        "\n",
        "\n",
        "提示:使用while迴圈\n"
      ],
      "metadata": {
        "id": "DZ4eugNdSYYj"
      }
    },
    {
      "cell_type": "code",
      "source": [],
      "metadata": {
        "id": "DCBrTgGHSX34"
      },
      "execution_count": null,
      "outputs": []
    },
    {
      "cell_type": "markdown",
      "source": [
        "No15. 請設計兩個串列，names和scores，分別存放使用者輸入的姓名和成績。直到輸入姓名為空為止。並依照成績，從大到小，再從小到大，輸出使用者輸入的姓名和成績，其格式為，姓名:成績。\n",
        "\n",
        "輸入的姓名和成績，姓名為Lendy，其成績為90、姓名為Mary，其成績為72、姓名為Bill，其成績為88。\n",
        "\n",
        "提示:使用while迴圈、sorted和reversed方法。"
      ],
      "metadata": {
        "id": "yPS4G5GzygYu"
      }
    },
    {
      "cell_type": "code",
      "source": [],
      "metadata": {
        "id": "mgzp-F5xzzXF"
      },
      "execution_count": null,
      "outputs": []
    },
    {
      "cell_type": "markdown",
      "source": [
        "No16. 請設計兩個串列，names和scores，分別存放使用者輸入的姓名和成績。直到輸入姓名為空為止。並依照成績，從大到小，再從小到大，輸出使用者輸入的姓名和成績，其格式為，姓名:成績。\n",
        "\n",
        "輸入的姓名和成績，姓名為Lendy，其成績為90、姓名為Mary，其成績為72、姓名為Bill，其成績為88。\n",
        "\n",
        "提示:使用while迴圈，使用sorted方法"
      ],
      "metadata": {
        "id": "UKZ0BmtuzweK"
      }
    },
    {
      "cell_type": "code",
      "source": [],
      "metadata": {
        "id": "cI7C-3RqCl8x"
      },
      "execution_count": null,
      "outputs": []
    },
    {
      "cell_type": "markdown",
      "source": [
        "No19. 請設計三個串列，names、java_scores和python_scores，分別存放使用者輸入的姓名，java成績和python成績。直到輸入姓名為空為止。並輸出使用者輸入的姓名，java成績和python成績，其格式為，姓名:java成績:python成績。\n",
        "\n",
        "輸入的姓名和成績，姓名為Lendy，其java成績成績為90，python成績成績為88、姓名為Mary，其java成績成績為72，python成績成績為90、姓名為Bill，其java成績成績為88，python成績成績為78。\n",
        "\n",
        "提示:使用while迴圈"
      ],
      "metadata": {
        "id": "M4g5qVAGM2d5"
      }
    },
    {
      "cell_type": "code",
      "source": [],
      "metadata": {
        "id": "3rKCFxLiOJTQ"
      },
      "execution_count": null,
      "outputs": []
    },
    {
      "cell_type": "markdown",
      "source": [
        "No20. 請使用辭典搭配串列students，透過辭典存放使用者輸入的姓名，java成績和python成績。直到輸入姓名為空為止。並輸出使用者輸入的姓名，java成績和python成績，其格式為，姓名:java成績:python成績。\n",
        "\n",
        "輸入的姓名和成績，姓名為Lendy，其java成績成績為90，python成績成績為88、姓名為Mary，其java成績成績為72，python成績成績為90、姓名為Bill，其java成績成績為88，python成績成績為78。\n",
        "\n",
        "提示:使用while迴圈"
      ],
      "metadata": {
        "id": "XigqAco7P0Vf"
      }
    },
    {
      "cell_type": "code",
      "source": [],
      "metadata": {
        "id": "hfhluxmI6zgr"
      },
      "execution_count": null,
      "outputs": []
    },
    {
      "cell_type": "markdown",
      "source": [
        "No21. 請使用辭典搭配串列students，透過辭典存放使用者輸入的姓名，java成績和python成績。直到輸入姓名為空為止。並依照java成績，從小到大，輸出使用者輸入的姓名，java成績和python成績，其格式為，姓名:java成績:python成績。\n",
        "\n",
        "輸入的姓名和成績，姓名為Lendy，其java成績成績為90，python成績成績為88、姓名為Mary，其java成績成績為72，python成績成績為90、姓名為Bill，其java成績成績為88，python成績成績為78。\n",
        "\n",
        "提示:使用while迴圈"
      ],
      "metadata": {
        "id": "c4smi8kNQ1IC"
      }
    },
    {
      "cell_type": "code",
      "source": [],
      "metadata": {
        "id": "CqqCGhvxdCiR"
      },
      "execution_count": null,
      "outputs": []
    },
    {
      "cell_type": "markdown",
      "source": [
        "No22. 請使用辭典搭配串列students，透過辭典存放使用者輸入的姓名，java成績和python成績。直到輸入姓名為空為止。並依照java成績，從大到小，輸出使用者輸入的姓名，java成績和python成績，其格式為，姓名:java成績:python成績。\n",
        "\n",
        "輸入的姓名和成績，姓名為Lendy，其java成績成績為90，python成績成績為88、姓名為Mary，其java成績成績為72，python成績成績為90、姓名為Bill，其java成績成績為88，python成績成績為78。\n",
        "\n",
        "提示:使用while迴圈"
      ],
      "metadata": {
        "id": "SwgN2ghmdZNS"
      }
    },
    {
      "cell_type": "code",
      "source": [],
      "metadata": {
        "id": "7LTNnuORdgBP"
      },
      "execution_count": null,
      "outputs": []
    }
  ]
}